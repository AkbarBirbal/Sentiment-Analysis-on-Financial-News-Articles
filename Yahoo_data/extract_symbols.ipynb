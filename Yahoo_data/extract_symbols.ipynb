{
 "cells": [
  {
   "cell_type": "code",
   "execution_count": 1,
   "metadata": {
    "collapsed": true
   },
   "outputs": [],
   "source": [
    "from yahoo_finance import Share"
   ]
  },
  {
   "cell_type": "code",
   "execution_count": 2,
   "metadata": {
    "collapsed": false
   },
   "outputs": [
    {
     "name": "stdout",
     "output_type": "stream",
     "text": [
      "<_io.TextIOWrapper name='companies.txt' mode='r' encoding='cp1252'>\n"
     ]
    }
   ],
   "source": [
    "f = open('companies.txt','r')\n",
    "print(f)"
   ]
  },
  {
   "cell_type": "code",
   "execution_count": 3,
   "metadata": {
    "collapsed": false
   },
   "outputs": [],
   "source": [
    "com = []\n",
    "for i in f:\n",
    "    com.append(i.strip())"
   ]
  },
  {
   "cell_type": "code",
   "execution_count": 4,
   "metadata": {
    "collapsed": false
   },
   "outputs": [
    {
     "data": {
      "text/plain": [
       "['Tata Sponge Iron',\n",
       " 'Sarda Energy',\n",
       " 'Tata Metaliks',\n",
       " 'Ratnamani Metals',\n",
       " 'APL Apollo',\n",
       " 'srikalahasti pipe',\n",
       " 'Kalyani Steels',\n",
       " 'Technocraf Industries',\n",
       " 'Tata Steel',\n",
       " 'JSW Steel',\n",
       " 'Surya Roshni',\n",
       " 'Goodluck Steel',\n",
       " 'maharashtra seamless',\n",
       " 'Prakash Industries',\n",
       " 'Prakash Steelage',\n",
       " 'Gandhi Special Tube',\n",
       " 'Welspun Corp',\n",
       " 'Gallantt Ispat',\n",
       " 'Skipper',\n",
       " 'Man Industries',\n",
       " 'pennar industries',\n",
       " 'Gallantt Metal',\n",
       " 'National Steel&Agro',\n",
       " 'steel authority of india',\n",
       " 'Rama Steel Tubes',\n",
       " 'Kridhan Infra',\n",
       " 'Pennar Industries',\n",
       " 'Kamdhenu Ispat',\n",
       " 'Mukand',\n",
       " 'Uttam Galva',\n",
       " 'Sunflag Iron',\n",
       " 'Manaksia Steels',\n",
       " 'Bilpower',\n",
       " 'Sujana Metal Prd',\n",
       " 'Vaswani Industries',\n",
       " 'Gyscoal Alloys',\n",
       " 'Uttam Value steel',\n",
       " 'Bil Energy systems',\n",
       " 'Vardhman Special',\n",
       " 'Oil Country',\n",
       " 'Electrosteel Steels',\n",
       " 'Bedmutha Industries',\n",
       " 'Jindal Saw',\n",
       " 'Zenith Birla',\n",
       " 'S.A.L. Steel Limited',\n",
       " 'OCL Iron & Steel',\n",
       " 'sathavahana ispat',\n",
       " 'Godawari Power',\n",
       " 'Jindal Steel',\n",
       " 'Usha Martin',\n",
       " 'MSP Steel & Power',\n",
       " 'Ankit Metal Power',\n",
       " 'Ramsarup Industries',\n",
       " 'ISMT',\n",
       " 'Adhunik Metal',\n",
       " 'PSL',\n",
       " 'jindal stainless',\n",
       " 'Visa Steel',\n",
       " 'Jai Balaji Industries',\n",
       " 'Bhushan Steel',\n",
       " 'Shah Alloys',\n",
       " 'Surana Industries',\n",
       " 'Monnet Ispat']"
      ]
     },
     "execution_count": 4,
     "metadata": {},
     "output_type": "execute_result"
    }
   ],
   "source": [
    "com"
   ]
  },
  {
   "cell_type": "code",
   "execution_count": 5,
   "metadata": {
    "collapsed": true
   },
   "outputs": [],
   "source": [
    "from urllib.parse import quote"
   ]
  },
  {
   "cell_type": "code",
   "execution_count": 6,
   "metadata": {
    "collapsed": true
   },
   "outputs": [],
   "source": [
    "query_1 = 'http://d.yimg.com/aq/autoc?query='\n",
    "query_2 = '&region=US&lang=en-US&callback=YAHOO.util.ScriptNodeDataSource.callbacks'"
   ]
  },
  {
   "cell_type": "code",
   "execution_count": 7,
   "metadata": {
    "collapsed": true
   },
   "outputs": [],
   "source": [
    "quries =[]\n",
    "for i in com:\n",
    "    quries.append(query_1+quote(i)+query_2)"
   ]
  },
  {
   "cell_type": "code",
   "execution_count": 8,
   "metadata": {
    "collapsed": true
   },
   "outputs": [],
   "source": [
    "import json\n",
    "import urllib.request"
   ]
  },
  {
   "cell_type": "code",
   "execution_count": 9,
   "metadata": {
    "collapsed": false
   },
   "outputs": [],
   "source": [
    "symb={}\n",
    "not_found=[]\n",
    "for i in quries:\n",
    "    data = urllib.request.urlopen(i).read().decode(\"utf-8\",errors='ignore')\n",
    "    if data:\n",
    "        ch = data.split(\"({\")\n",
    "        d = json.loads('{'+ch[1].replace(\");\",\"\"))\n",
    "        if d['ResultSet']['Result']:\n",
    "            name = d['ResultSet']['Result'][0]['name']\n",
    "            sym = d['ResultSet']['Result'][0]['symbol']\n",
    "            symb[name] = sym\n",
    "        else:\n",
    "            not_found.append(i)\n",
    "    else:\n",
    "        not_found.append(i)"
   ]
  },
  {
   "cell_type": "code",
   "execution_count": 10,
   "metadata": {
    "collapsed": false
   },
   "outputs": [
    {
     "data": {
      "text/plain": [
       "6"
      ]
     },
     "execution_count": 10,
     "metadata": {},
     "output_type": "execute_result"
    }
   ],
   "source": [
    "len(not_found)"
   ]
  },
  {
   "cell_type": "code",
   "execution_count": 11,
   "metadata": {
    "collapsed": false
   },
   "outputs": [
    {
     "data": {
      "text/plain": [
       "{'APL Apollo Tubes Limited': 'APLAPOLLO.NS',\n",
       " 'Adhunik Metaliks Limited': 'ADHUNIK.NS',\n",
       " 'Bedmutha Industries Limited': 'BEDMUTHA.NS',\n",
       " 'Bhushan Steel Limited': 'BHUSANSTL.NS',\n",
       " 'Bil Energy Systems Ltd.': 'BILENERGY.NS',\n",
       " 'Bilpower Ltd.': 'BILPOWER.NS',\n",
       " 'Electrosteel Steels Limited': 'ESL.NS',\n",
       " 'GANDHI SPECIAL TUBES LTD.': 'GANDHITUBE.BO',\n",
       " 'GOODLUCK STEEL TUBES LTD.': '530655.BO',\n",
       " 'Gallantt Ispat Limited': 'GALLISPAT.NS',\n",
       " 'Gallantt Metal Ltd.': 'GALLANTT.NS',\n",
       " 'Godawari Power & Ispat Ltd.': 'GPIL.BO',\n",
       " 'Gyscoal Alloys Limited': 'GAL.NS',\n",
       " 'ISMT Ltd.': 'ISMTLTD.NS',\n",
       " 'JINDAL SAW LTD.': 'JINDALSAW.BO',\n",
       " 'JINDAL STEEL & POWER LTD.': 'JINDALSTEL.BO',\n",
       " 'JSW Steel Ltd.': 'JSWSTEEL.NS',\n",
       " 'Jai Balaji Industries Ltd.': 'JAIBALAJI.NS',\n",
       " 'Jindal Stainless Limited': 'JSL.NS',\n",
       " 'KRIDHAN INFRA LIMITED': 'KRIINFRA.BO',\n",
       " 'Kalyani Steels Ltd.': 'KSL.NS',\n",
       " 'Kamdhenu Ispat Limited': 'KIL.BO',\n",
       " 'MAN Industries India Ltd.': 'MANINDS.NS',\n",
       " 'MANAKSIA STEELS LT INR1': 'MANAKSTEEL.NS',\n",
       " 'MONNET ISPAT & ENERGY LTD.': 'MONNETISPA.BO',\n",
       " 'Maharashtra Seamless Limited': 'MAHSEAMLES.BO',\n",
       " 'Msp Steel & Power Ltd': 'MSPL.NS',\n",
       " 'Mukand Limited': 'MUKANDLTD.NS',\n",
       " 'OIL COUNTRY TUBULAR LTD.': 'OILCOUNTUB.BO',\n",
       " 'Pennar Industries Limited': 'PENIND.NS',\n",
       " 'PowerShares DWA Consumer Staples Mom ETF': 'PSL',\n",
       " 'Prakash Industries Limited': 'PRAKASH.NS',\n",
       " 'Prakash Steelage Ltd.': 'PRAKASHST.NS',\n",
       " 'Rama Steel Tubes Limited': 'RAMASTEEL.NS',\n",
       " 'Ramsarup Industries Ltd.': 'RAMSARUP.BO',\n",
       " 'Ratnamani Metals & Tubes Limited': 'RATNAMANI.NS',\n",
       " 'S.A.L. Steel Limited': 'SALSTEEL.BO',\n",
       " 'SHAH ALLOYS LTD.': 'SHAHALLOYS.BO',\n",
       " 'SKIPPER LTD INR10': 'SKIPPER-EQ.NS',\n",
       " 'Sarda Energy & Minerals Limited': 'SARDAEN.NS',\n",
       " 'Sathavahana Ispat': 'SATHAISPA.NS',\n",
       " 'Steel Authority of India Limited': 'SAIL.BO',\n",
       " 'Sunflag Iron And Steel Company Limited': 'SUNFLAG.NS',\n",
       " 'Surana Industries Limited': 'SURANAIND.NS',\n",
       " 'Surya Roshni Limited': 'SURYAROSN.NS',\n",
       " 'TATA SPONGE IRON LIMITED': 'TATASPONGE-EQ.NS',\n",
       " 'Tata Metaliks Limited': 'TATAMETAL.NS',\n",
       " 'Tata Steel Limited': 'TATASTEEL.NS',\n",
       " 'UTTAM VALUE STEELS LTD.': 'UTTAMVALUE.BO',\n",
       " 'Usha Martin Limited': 'USHAMART.NS',\n",
       " 'Uttam Galva Steels Limited': 'UTTAMSTL.NS',\n",
       " 'VARDHMAN SPECIAL STEELS LTD.': 'VSSL.BO',\n",
       " 'VISA Steel Ltd.': 'VISASTEEL.BO',\n",
       " 'Vaswani Industries Limited': 'VASWANI.NS',\n",
       " 'Welspun Corp Limited': 'WELCORP.NS',\n",
       " 'ZENITH BIRLA (INDIA) LTD.': 'ZENITHBIR.BO'}"
      ]
     },
     "execution_count": 11,
     "metadata": {},
     "output_type": "execute_result"
    }
   ],
   "source": [
    "symb"
   ]
  },
  {
   "cell_type": "code",
   "execution_count": 12,
   "metadata": {
    "collapsed": false
   },
   "outputs": [],
   "source": [
    "not_found[0]='http://d.yimg.com/aq/autoc?query=srikalahasthi&region=US&lang=en-US&callback=YAHOO.util.ScriptNodeDataSource.callbacks'"
   ]
  },
  {
   "cell_type": "code",
   "execution_count": 13,
   "metadata": {
    "collapsed": false
   },
   "outputs": [],
   "source": [
    "not_found[1]='http://d.yimg.com/aq/autoc?query=Technocraft%20Industries&region=US&lang=en-US&callback=YAHOO.util.ScriptNodeDataSource.callbacks'"
   ]
  },
  {
   "cell_type": "code",
   "execution_count": 14,
   "metadata": {
    "collapsed": false
   },
   "outputs": [],
   "source": [
    "not_found[2]='http://d.yimg.com/aq/autoc?query=National%20Steel%20&%20Agro&region=US&lang=en-US&callback=YAHOO.util.ScriptNodeDataSource.callbacks'"
   ]
  },
  {
   "cell_type": "code",
   "execution_count": 15,
   "metadata": {
    "collapsed": false
   },
   "outputs": [],
   "source": [
    "not_found[3]='http://d.yimg.com/aq/autoc?query=SUJANA%20METAL%20PRODUCTS&region=US&lang=en-US&callback=YAHOO.util.ScriptNodeDataSource.callbacks'"
   ]
  },
  {
   "cell_type": "code",
   "execution_count": 16,
   "metadata": {
    "collapsed": false
   },
   "outputs": [],
   "source": [
    "del not_found[4]"
   ]
  },
  {
   "cell_type": "code",
   "execution_count": 17,
   "metadata": {
    "collapsed": false
   },
   "outputs": [
    {
     "data": {
      "text/plain": [
       "['http://d.yimg.com/aq/autoc?query=srikalahasthi&region=US&lang=en-US&callback=YAHOO.util.ScriptNodeDataSource.callbacks',\n",
       " 'http://d.yimg.com/aq/autoc?query=Technocraft%20Industries&region=US&lang=en-US&callback=YAHOO.util.ScriptNodeDataSource.callbacks',\n",
       " 'http://d.yimg.com/aq/autoc?query=National%20Steel%20&%20Agro&region=US&lang=en-US&callback=YAHOO.util.ScriptNodeDataSource.callbacks',\n",
       " 'http://d.yimg.com/aq/autoc?query=SUJANA%20METAL%20PRODUCTS&region=US&lang=en-US&callback=YAHOO.util.ScriptNodeDataSource.callbacks',\n",
       " 'http://d.yimg.com/aq/autoc?query=Ankit%20Metal%20Power&region=US&lang=en-US&callback=YAHOO.util.ScriptNodeDataSource.callbacks']"
      ]
     },
     "execution_count": 17,
     "metadata": {},
     "output_type": "execute_result"
    }
   ],
   "source": [
    "not_found"
   ]
  },
  {
   "cell_type": "code",
   "execution_count": 18,
   "metadata": {
    "collapsed": false
   },
   "outputs": [],
   "source": [
    "no=[]\n",
    "for i in not_found:\n",
    "    data = urllib.request.urlopen(i).read().decode(\"utf-8\",errors='ignore')\n",
    "    if data:\n",
    "        ch = data.split(\"({\")\n",
    "        d = json.loads('{'+ch[1].replace(\");\",\"\"))\n",
    "        if d['ResultSet']['Result']:\n",
    "            name = d['ResultSet']['Result'][0]['name']\n",
    "            sym = d['ResultSet']['Result'][0]['symbol']\n",
    "            symb[name] = sym\n",
    "        else:\n",
    "            no.append(i)\n",
    "    else:\n",
    "        no.append(i)"
   ]
  },
  {
   "cell_type": "code",
   "execution_count": 19,
   "metadata": {
    "collapsed": false
   },
   "outputs": [
    {
     "data": {
      "text/plain": [
       "['http://d.yimg.com/aq/autoc?query=Ankit%20Metal%20Power&region=US&lang=en-US&callback=YAHOO.util.ScriptNodeDataSource.callbacks']"
      ]
     },
     "execution_count": 19,
     "metadata": {},
     "output_type": "execute_result"
    }
   ],
   "source": [
    "no"
   ]
  },
  {
   "cell_type": "code",
   "execution_count": 20,
   "metadata": {
    "collapsed": false
   },
   "outputs": [
    {
     "data": {
      "text/plain": [
       "{'APL Apollo Tubes Limited': 'APLAPOLLO.NS',\n",
       " 'Adhunik Metaliks Limited': 'ADHUNIK.NS',\n",
       " 'Bedmutha Industries Limited': 'BEDMUTHA.NS',\n",
       " 'Bhushan Steel Limited': 'BHUSANSTL.NS',\n",
       " 'Bil Energy Systems Ltd.': 'BILENERGY.NS',\n",
       " 'Bilpower Ltd.': 'BILPOWER.NS',\n",
       " 'Electrosteel Steels Limited': 'ESL.NS',\n",
       " 'GANDHI SPECIAL TUBES LTD.': 'GANDHITUBE.BO',\n",
       " 'GOODLUCK STEEL TUBES LTD.': '530655.BO',\n",
       " 'Gallantt Ispat Limited': 'GALLISPAT.NS',\n",
       " 'Gallantt Metal Ltd.': 'GALLANTT.NS',\n",
       " 'Godawari Power & Ispat Ltd.': 'GPIL.BO',\n",
       " 'Gyscoal Alloys Limited': 'GAL.NS',\n",
       " 'ISMT Ltd.': 'ISMTLTD.NS',\n",
       " 'JINDAL SAW LTD.': 'JINDALSAW.BO',\n",
       " 'JINDAL STEEL & POWER LTD.': 'JINDALSTEL.BO',\n",
       " 'JSW Steel Ltd.': 'JSWSTEEL.NS',\n",
       " 'Jai Balaji Industries Ltd.': 'JAIBALAJI.NS',\n",
       " 'Jindal Stainless Limited': 'JSL.NS',\n",
       " 'KRIDHAN INFRA LIMITED': 'KRIINFRA.BO',\n",
       " 'Kalyani Steels Ltd.': 'KSL.NS',\n",
       " 'Kamdhenu Ispat Limited': 'KIL.BO',\n",
       " 'MAN Industries India Ltd.': 'MANINDS.NS',\n",
       " 'MANAKSIA STEELS LT INR1': 'MANAKSTEEL.NS',\n",
       " 'MONNET ISPAT & ENERGY LTD.': 'MONNETISPA.BO',\n",
       " 'Maharashtra Seamless Limited': 'MAHSEAMLES.BO',\n",
       " 'Msp Steel & Power Ltd': 'MSPL.NS',\n",
       " 'Mukand Limited': 'MUKANDLTD.NS',\n",
       " 'NATIONAL STEEL AND AGRO INDUSTR': 'NATNLSTEEL.NS',\n",
       " 'OIL COUNTRY TUBULAR LTD.': 'OILCOUNTUB.BO',\n",
       " 'Pennar Industries Limited': 'PENIND.NS',\n",
       " 'PowerShares DWA Consumer Staples Mom ETF': 'PSL',\n",
       " 'Prakash Industries Limited': 'PRAKASH.NS',\n",
       " 'Prakash Steelage Ltd.': 'PRAKASHST.NS',\n",
       " 'Rama Steel Tubes Limited': 'RAMASTEEL.NS',\n",
       " 'Ramsarup Industries Ltd.': 'RAMSARUP.BO',\n",
       " 'Ratnamani Metals & Tubes Limited': 'RATNAMANI.NS',\n",
       " 'S.A.L. Steel Limited': 'SALSTEEL.BO',\n",
       " 'SHAH ALLOYS LTD.': 'SHAHALLOYS.BO',\n",
       " 'SKIPPER LTD INR10': 'SKIPPER-EQ.NS',\n",
       " 'SRIKALAHASTHI PIPE INR10': 'SRIPIPES-EQ.NS',\n",
       " 'SUJANA METAL PRODUCTS LTD.': 'SMPL.BO',\n",
       " 'Sarda Energy & Minerals Limited': 'SARDAEN.NS',\n",
       " 'Sathavahana Ispat': 'SATHAISPA.NS',\n",
       " 'Steel Authority of India Limited': 'SAIL.BO',\n",
       " 'Sunflag Iron And Steel Company Limited': 'SUNFLAG.NS',\n",
       " 'Surana Industries Limited': 'SURANAIND.NS',\n",
       " 'Surya Roshni Limited': 'SURYAROSN.NS',\n",
       " 'TATA SPONGE IRON LIMITED': 'TATASPONGE-EQ.NS',\n",
       " 'Tata Metaliks Limited': 'TATAMETAL.NS',\n",
       " 'Tata Steel Limited': 'TATASTEEL.NS',\n",
       " 'Technocraft Industries (India) Ltd.': 'TIIL.NS',\n",
       " 'UTTAM VALUE STEELS LTD.': 'UTTAMVALUE.BO',\n",
       " 'Usha Martin Limited': 'USHAMART.NS',\n",
       " 'Uttam Galva Steels Limited': 'UTTAMSTL.NS',\n",
       " 'VARDHMAN SPECIAL STEELS LTD.': 'VSSL.BO',\n",
       " 'VISA Steel Ltd.': 'VISASTEEL.BO',\n",
       " 'Vaswani Industries Limited': 'VASWANI.NS',\n",
       " 'Welspun Corp Limited': 'WELCORP.NS',\n",
       " 'ZENITH BIRLA (INDIA) LTD.': 'ZENITHBIR.BO'}"
      ]
     },
     "execution_count": 20,
     "metadata": {},
     "output_type": "execute_result"
    }
   ],
   "source": [
    "symb"
   ]
  },
  {
   "cell_type": "code",
   "execution_count": 21,
   "metadata": {
    "collapsed": true
   },
   "outputs": [],
   "source": [
    "import pickle"
   ]
  },
  {
   "cell_type": "code",
   "execution_count": 22,
   "metadata": {
    "collapsed": true
   },
   "outputs": [],
   "source": [
    "import json"
   ]
  },
  {
   "cell_type": "code",
   "execution_count": 23,
   "metadata": {
    "collapsed": false
   },
   "outputs": [],
   "source": [
    "with open('symols', 'w') as f:\n",
    "    json.dump(symb, f)"
   ]
  },
  {
   "cell_type": "code",
   "execution_count": null,
   "metadata": {
    "collapsed": true
   },
   "outputs": [],
   "source": []
  }
 ],
 "metadata": {
  "kernelspec": {
   "display_name": "Python 3",
   "language": "python",
   "name": "python3"
  },
  "language_info": {
   "codemirror_mode": {
    "name": "ipython",
    "version": 3
   },
   "file_extension": ".py",
   "mimetype": "text/x-python",
   "name": "python",
   "nbconvert_exporter": "python",
   "pygments_lexer": "ipython3",
   "version": "3.5.1"
  }
 },
 "nbformat": 4,
 "nbformat_minor": 0
}
